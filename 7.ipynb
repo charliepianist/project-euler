{
 "cells": [
  {
   "cell_type": "code",
   "execution_count": 4,
   "metadata": {},
   "outputs": [],
   "source": [
    "all_primes = [2, 3, 5, 7, 11, 13, 17, 19]\n",
    "\n",
    "def nth_prime(n):\n",
    "    if n <= len(all_primes):\n",
    "        return all_primes[n-1]\n",
    "    \n",
    "    while n > len(all_primes) + 1:\n",
    "        nth_prime(len(all_primes) + 1)\n",
    "    \n",
    "    for i in range(all_primes[-1], all_primes[-1]*2):\n",
    "        is_prime = True\n",
    "        for j in all_primes:\n",
    "            if i % j == 0:\n",
    "                is_prime = False\n",
    "                break\n",
    "        if is_prime:\n",
    "            all_primes.append(i)\n",
    "            return i\n",
    "\n"
   ]
  },
  {
   "cell_type": "code",
   "execution_count": 5,
   "metadata": {},
   "outputs": [
    {
     "data": {
      "text/plain": [
       "104743"
      ]
     },
     "execution_count": 5,
     "metadata": {},
     "output_type": "execute_result"
    }
   ],
   "source": [
    "nth_prime(10001)"
   ]
  },
  {
   "cell_type": "code",
   "execution_count": null,
   "metadata": {},
   "outputs": [],
   "source": []
  }
 ],
 "metadata": {
  "kernelspec": {
   "display_name": "Python 3",
   "language": "python",
   "name": "python3"
  },
  "language_info": {
   "codemirror_mode": {
    "name": "ipython",
    "version": 3
   },
   "file_extension": ".py",
   "mimetype": "text/x-python",
   "name": "python",
   "nbconvert_exporter": "python",
   "pygments_lexer": "ipython3",
   "version": "3.11.3"
  },
  "orig_nbformat": 4
 },
 "nbformat": 4,
 "nbformat_minor": 2
}
