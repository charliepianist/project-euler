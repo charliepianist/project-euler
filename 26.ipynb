{
 "cells": [
  {
   "cell_type": "code",
   "execution_count": 1,
   "metadata": {},
   "outputs": [],
   "source": [
    "# the smallest n such that the number x divides 99...9 (n 9's) * 2^a * 5^b is the number of repeating digits, I think "
   ]
  },
  {
   "cell_type": "code",
   "execution_count": 2,
   "metadata": {},
   "outputs": [],
   "source": [
    "from number_theory import gen_primes_up_to, factorize, unfactorize"
   ]
  },
  {
   "cell_type": "code",
   "execution_count": 3,
   "metadata": {},
   "outputs": [],
   "source": [
    "primes = gen_primes_up_to(1e7)"
   ]
  },
  {
   "cell_type": "code",
   "execution_count": 17,
   "metadata": {},
   "outputs": [],
   "source": [
    "def repeating_digits(n):\n",
    "    factorization = factorize(n, primes)\n",
    "    factorization[2] = 0\n",
    "    factorization[5] = 0\n",
    "    relevant_n = unfactorize(factorization)\n",
    "    if relevant_n == 1:\n",
    "        return 0\n",
    "\n",
    "    for i in range(1, 1000):\n",
    "        num = int(''.join(['9'] * i))\n",
    "        if num % relevant_n == 0:\n",
    "            return i\n",
    "    raise Exception(f'More than 999 repeating digits in 1/{n}')"
   ]
  },
  {
   "cell_type": "code",
   "execution_count": 19,
   "metadata": {},
   "outputs": [
    {
     "data": {
      "text/plain": [
       "(983, 982)"
      ]
     },
     "execution_count": 19,
     "metadata": {},
     "output_type": "execute_result"
    }
   ],
   "source": [
    "best = 1\n",
    "best_val = 0\n",
    "for i in range(2, 1000):\n",
    "    repeats = repeating_digits(i)\n",
    "    if repeats > best_val:\n",
    "        best_val = repeats\n",
    "        best = i\n",
    "best, best_val"
   ]
  },
  {
   "cell_type": "code",
   "execution_count": null,
   "metadata": {},
   "outputs": [],
   "source": []
  },
  {
   "cell_type": "code",
   "execution_count": null,
   "metadata": {},
   "outputs": [],
   "source": []
  }
 ],
 "metadata": {
  "kernelspec": {
   "display_name": "Python 3",
   "language": "python",
   "name": "python3"
  },
  "language_info": {
   "codemirror_mode": {
    "name": "ipython",
    "version": 3
   },
   "file_extension": ".py",
   "mimetype": "text/x-python",
   "name": "python",
   "nbconvert_exporter": "python",
   "pygments_lexer": "ipython3",
   "version": "3.11.3"
  },
  "orig_nbformat": 4
 },
 "nbformat": 4,
 "nbformat_minor": 2
}
