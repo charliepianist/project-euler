{
 "cells": [
  {
   "cell_type": "code",
   "execution_count": null,
   "metadata": {},
   "outputs": [],
   "source": [
    "# a^2 + b^2 = (1000 - a - b)^2\n",
    "# 1000^2 - 2000a - 2000b + 2ab = 0\n",
    "# ab - 1000a - 1000b - 500*1000 = 0\n",
    "# (1000-a)(1000-b) = 500*1000"
   ]
  },
  {
   "cell_type": "code",
   "execution_count": 1,
   "metadata": {},
   "outputs": [],
   "source": [
    "total_powers = {\n",
    "    2: 5,\n",
    "    3: 1,\n",
    "    5: 6,\n",
    "}"
   ]
  },
  {
   "cell_type": "code",
   "execution_count": 4,
   "metadata": {},
   "outputs": [
    {
     "data": {
      "text/plain": [
       "1.0"
      ]
     },
     "execution_count": 4,
     "metadata": {},
     "output_type": "execute_result"
    }
   ],
   "source": []
  },
  {
   "cell_type": "code",
   "execution_count": 3,
   "metadata": {},
   "outputs": [],
   "source": [
    "for pow2 in range(6):\n",
    "    for pow5 in range(7):\n",
    "        mult1 = 2**pow2 * 5**pow5\n",
    "        mult2 = 2**(5-pow2) * 5**(6-pow5)\n",
    "        if mult1 < 1000 and mult1 > 0 and mult2 < 1000 and mult2 > 0:\n",
    "            ans = (1000-mult1, 1000-mult2)"
   ]
  },
  {
   "cell_type": "code",
   "execution_count": 5,
   "metadata": {},
   "outputs": [
    {
     "name": "stdout",
     "output_type": "stream",
     "text": [
      "(200, 375) 425\n"
     ]
    },
    {
     "data": {
      "text/plain": [
       "31875000"
      ]
     },
     "execution_count": 5,
     "metadata": {},
     "output_type": "execute_result"
    }
   ],
   "source": [
    "c = int((ans[0]**2 + ans[1]**2)**0.5)\n",
    "print(ans, c)\n",
    "ans[0] * ans[1] * c"
   ]
  },
  {
   "cell_type": "code",
   "execution_count": null,
   "metadata": {},
   "outputs": [],
   "source": []
  }
 ],
 "metadata": {
  "kernelspec": {
   "display_name": "Python 3",
   "language": "python",
   "name": "python3"
  },
  "language_info": {
   "codemirror_mode": {
    "name": "ipython",
    "version": 3
   },
   "file_extension": ".py",
   "mimetype": "text/x-python",
   "name": "python",
   "nbconvert_exporter": "python",
   "pygments_lexer": "ipython3",
   "version": "3.11.3"
  },
  "orig_nbformat": 4
 },
 "nbformat": 4,
 "nbformat_minor": 2
}
