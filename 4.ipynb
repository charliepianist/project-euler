{
 "cells": [
  {
   "cell_type": "code",
   "execution_count": 1,
   "metadata": {},
   "outputs": [
    {
     "name": "stdout",
     "output_type": "stream",
     "text": [
      "906609\n",
      "886688\n",
      "888888\n",
      "861168\n",
      "888888\n",
      "861168\n",
      "886688\n",
      "824428\n",
      "906609\n",
      "819918\n",
      "824428\n",
      "819918\n"
     ]
    }
   ],
   "source": [
    "# check 9___9 first\n",
    "for i in range(999, 900, -1):\n",
    "    for j in range(999, 900, -1):\n",
    "        s = str(i*j)\n",
    "        if s[::-1] == s:\n",
    "            print(s)"
   ]
  },
  {
   "cell_type": "code",
   "execution_count": null,
   "metadata": {},
   "outputs": [],
   "source": []
  }
 ],
 "metadata": {
  "kernelspec": {
   "display_name": "Python 3",
   "language": "python",
   "name": "python3"
  },
  "language_info": {
   "codemirror_mode": {
    "name": "ipython",
    "version": 3
   },
   "file_extension": ".py",
   "mimetype": "text/x-python",
   "name": "python",
   "nbconvert_exporter": "python",
   "pygments_lexer": "ipython3",
   "version": "3.11.3"
  },
  "orig_nbformat": 4
 },
 "nbformat": 4,
 "nbformat_minor": 2
}
