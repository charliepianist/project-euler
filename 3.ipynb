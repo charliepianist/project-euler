{
 "cells": [
  {
   "cell_type": "code",
   "execution_count": 31,
   "metadata": {},
   "outputs": [],
   "source": [
    "def largest_prime_factor(n):\n",
    "    last_prime = 101\n",
    "    do_break = False\n",
    "    while n > 1 and (not do_break):\n",
    "        for i in [2, 3, 5, 7, 11, 13, 17, 19, 23, 29, 31, 37, 41, 43, 47, 53, 59, 61, 67, 71, 73, 79, 83, 89, 93, 97]:\n",
    "            if n % i == 0:\n",
    "                n //= i\n",
    "                last_prime = i\n",
    "            elif i == 97:\n",
    "                do_break = True\n",
    "            \n",
    "    while n > 1:\n",
    "        for i in range(last_prime, n+1):\n",
    "            if n % i == 0:\n",
    "                n //= i\n",
    "                last_prime = i\n",
    "                break\n",
    "    return last_prime"
   ]
  },
  {
   "cell_type": "code",
   "execution_count": 32,
   "metadata": {},
   "outputs": [
    {
     "data": {
      "text/plain": [
       "6857"
      ]
     },
     "execution_count": 32,
     "metadata": {},
     "output_type": "execute_result"
    }
   ],
   "source": [
    "largest_prime_factor(600851475143)\n",
    "# largest_prime_factor(15 * 101)"
   ]
  },
  {
   "cell_type": "code",
   "execution_count": null,
   "metadata": {},
   "outputs": [],
   "source": []
  }
 ],
 "metadata": {
  "kernelspec": {
   "display_name": "Python 3",
   "language": "python",
   "name": "python3"
  },
  "language_info": {
   "codemirror_mode": {
    "name": "ipython",
    "version": 3
   },
   "file_extension": ".py",
   "mimetype": "text/x-python",
   "name": "python",
   "nbconvert_exporter": "python",
   "pygments_lexer": "ipython3",
   "version": "3.11.3"
  },
  "orig_nbformat": 4
 },
 "nbformat": 4,
 "nbformat_minor": 2
}
