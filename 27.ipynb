{
 "cells": [
  {
   "cell_type": "code",
   "execution_count": 16,
   "metadata": {},
   "outputs": [],
   "source": [
    "from number_theory import gen_primes_up_to\n",
    "import numpy as np\n"
   ]
  },
  {
   "cell_type": "code",
   "execution_count": 15,
   "metadata": {},
   "outputs": [],
   "source": [
    "# Max is ~1000^2 + 999*1000 + 1000 = 2e6\n",
    "primes_list = gen_primes_up_to(2000000)"
   ]
  },
  {
   "cell_type": "code",
   "execution_count": 17,
   "metadata": {},
   "outputs": [],
   "source": [
    "primes = np.full(2000000, False)\n",
    "for p in primes_list:\n",
    "    primes[p] = True"
   ]
  },
  {
   "cell_type": "code",
   "execution_count": 18,
   "metadata": {},
   "outputs": [],
   "source": [
    "primes_lt_1000 = []\n",
    "for p in primes_list:\n",
    "    if p >= 1000:\n",
    "        break\n",
    "    primes_lt_1000.append(p)"
   ]
  },
  {
   "cell_type": "code",
   "execution_count": 19,
   "metadata": {},
   "outputs": [],
   "source": [
    "best_a = -1\n",
    "best_b = -1\n",
    "best_consecutive = -1\n",
    "\n",
    "for b in primes_lt_1000:\n",
    "    for a in range(-999, 1000):\n",
    "        n = 0\n",
    "        while n < b:\n",
    "            p = n*n + a*n + b\n",
    "            if not primes[p]:\n",
    "                break\n",
    "            n += 1\n",
    "\n",
    "        if n > best_consecutive:\n",
    "            best_consecutive = n\n",
    "            best_a = a\n",
    "            best_b = b\n",
    "        "
   ]
  },
  {
   "cell_type": "code",
   "execution_count": 21,
   "metadata": {},
   "outputs": [
    {
     "data": {
      "text/plain": [
       "(-61, 971, 71)"
      ]
     },
     "execution_count": 21,
     "metadata": {},
     "output_type": "execute_result"
    }
   ],
   "source": [
    "best_a, best_b, best_consecutive"
   ]
  },
  {
   "cell_type": "code",
   "execution_count": 22,
   "metadata": {},
   "outputs": [
    {
     "data": {
      "text/plain": [
       "-59231"
      ]
     },
     "execution_count": 22,
     "metadata": {},
     "output_type": "execute_result"
    }
   ],
   "source": [
    "best_a*best_b"
   ]
  },
  {
   "cell_type": "code",
   "execution_count": null,
   "metadata": {},
   "outputs": [],
   "source": []
  }
 ],
 "metadata": {
  "kernelspec": {
   "display_name": "Python 3",
   "language": "python",
   "name": "python3"
  },
  "language_info": {
   "codemirror_mode": {
    "name": "ipython",
    "version": 3
   },
   "file_extension": ".py",
   "mimetype": "text/x-python",
   "name": "python",
   "nbconvert_exporter": "python",
   "pygments_lexer": "ipython3",
   "version": "3.11.3"
  },
  "orig_nbformat": 4
 },
 "nbformat": 4,
 "nbformat_minor": 2
}
