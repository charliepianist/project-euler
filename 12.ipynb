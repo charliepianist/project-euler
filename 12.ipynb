{
 "cells": [
  {
   "cell_type": "code",
   "execution_count": 11,
   "metadata": {},
   "outputs": [],
   "source": [
    "from collections import defaultdict\n",
    "import numpy as np"
   ]
  },
  {
   "cell_type": "code",
   "execution_count": 15,
   "metadata": {},
   "outputs": [],
   "source": [
    "def gen_primes_up_to(n):\n",
    "    nums = list(range(1, int(n)+1))\n",
    "    is_prime = [True for num in nums]\n",
    "    is_prime[0] = False\n",
    "\n",
    "    for i in range(len(nums)):\n",
    "        if is_prime[i]:\n",
    "            for j in range(i+nums[i], len(nums), nums[i]):\n",
    "                is_prime[j] = False\n",
    "\n",
    "    primes = []\n",
    "    for i in range(len(nums)):\n",
    "        if is_prime[i]:\n",
    "            primes.append(nums[i])\n",
    "    return primes\n",
    "\n",
    "def factorize(x, primes):\n",
    "    if x == 0 or x == 1:\n",
    "        return {}\n",
    "    \n",
    "    orig_x = x\n",
    "    i = 0\n",
    "    factorization = defaultdict(lambda : 0)\n",
    "\n",
    "    while x > 1 and i < len(primes):\n",
    "        if x % primes[i] == 0:\n",
    "            factorization[primes[i]] += 1\n",
    "            x //= primes[i]\n",
    "        else:\n",
    "            i += 1\n",
    "\n",
    "    if x != 1:\n",
    "        raise Exception(f'could not factor {orig_x} (left with {x}); largest prime was {primes[-1]}')\n",
    "    return factorization"
   ]
  },
  {
   "cell_type": "code",
   "execution_count": 7,
   "metadata": {},
   "outputs": [],
   "source": [
    "primes = gen_primes_up_to(1e6)"
   ]
  },
  {
   "cell_type": "code",
   "execution_count": 24,
   "metadata": {},
   "outputs": [
    {
     "name": "stdout",
     "output_type": "stream",
     "text": [
      "12375\n",
      "76576500\n"
     ]
    }
   ],
   "source": [
    "for n in range(1000000):\n",
    "    if n % 2 == 0:\n",
    "        n1 = n // 2\n",
    "        n2 = n + 1\n",
    "    else:\n",
    "        n1 = n\n",
    "        n2 = (n+1) // 2\n",
    "    \n",
    "    f1 = factorize(n1, primes)\n",
    "    f2 = factorize(n2, primes)\n",
    "    # Combine factorizations\n",
    "    combined = defaultdict(lambda : 0)\n",
    "    for p in f1:\n",
    "        combined[p] += f1[p]\n",
    "    for p in f2:\n",
    "        combined[p] += f2[p]\n",
    "    \n",
    "    log_factors = 0\n",
    "    target = np.log(500)\n",
    "    for p in combined:\n",
    "        log_factors += np.log(combined[p]+1)\n",
    "    if log_factors > target:\n",
    "        print(n)\n",
    "        print(n*(n+1)//2)\n",
    "        break"
   ]
  }
 ],
 "metadata": {
  "kernelspec": {
   "display_name": "Python 3",
   "language": "python",
   "name": "python3"
  },
  "language_info": {
   "codemirror_mode": {
    "name": "ipython",
    "version": 3
   },
   "file_extension": ".py",
   "mimetype": "text/x-python",
   "name": "python",
   "nbconvert_exporter": "python",
   "pygments_lexer": "ipython3",
   "version": "3.11.3"
  },
  "orig_nbformat": 4
 },
 "nbformat": 4,
 "nbformat_minor": 2
}
